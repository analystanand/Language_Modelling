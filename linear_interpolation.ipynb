{
 "cells": [
  {
   "cell_type": "code",
   "execution_count": 73,
   "metadata": {},
   "outputs": [],
   "source": [
    "# !pip install jupyter_dashboards\n",
    "# !jupyter dashboards quick-setup --sys-prefix\n",
    "# !pip install ipywidgets\n",
    "# !jupyter nbextension enable --py widgetsnbextension"
   ]
  },
  {
   "cell_type": "markdown",
   "metadata": {},
   "source": [
    "## Smoothing\n",
    "### Linear Interpolation\n",
    "\n",
    "Linear lnterpolation\n",
    "Use both unigram and bigram counts, but we believe them to different extents\n",
    "\n",
    "\\begin{align}\n",
    "{\\lambda_1} & = \\ \\dfrac{C(w_i-1)}{C(w_i-1)+\\lambda} \\\\\n",
    "\\end{align}"
   ]
  },
  {
   "cell_type": "code",
   "execution_count": 74,
   "metadata": {},
   "outputs": [],
   "source": [
    "from __future__ import print_function\n",
    "from ipywidgets import interact, interactive, fixed, interact_manual,IntSlider\n",
    "import ipywidgets as widgets\n",
    "import numpy as np\n",
    "import pandas as pd\n",
    "import matplotlib.pyplot as plt"
   ]
  },
  {
   "cell_type": "code",
   "execution_count": 75,
   "metadata": {},
   "outputs": [],
   "source": [
    "def f(lambd,c):\n",
    "    context = np.arange(c)\n",
    "    lamb1 = context/(context + lambd)\n",
    "    plt.plot(context,lamb1)\n",
    "    plt.ylim(0,1)\n"
   ]
  },
  {
   "cell_type": "code",
   "execution_count": 77,
   "metadata": {},
   "outputs": [
    {
     "data": {
      "application/vnd.jupyter.widget-view+json": {
       "model_id": "42e8208ae6714eb293151e2a0e5e845a",
       "version_major": 2,
       "version_minor": 0
      },
      "text/plain": [
       "interactive(children=(IntSlider(value=1, description='lambd', max=300, min=1), IntSlider(value=1, description=…"
      ]
     },
     "metadata": {},
     "output_type": "display_data"
    },
    {
     "data": {
      "text/plain": [
       "<function __main__.f(lambd, c)>"
      ]
     },
     "execution_count": 77,
     "metadata": {},
     "output_type": "execute_result"
    }
   ],
   "source": [
    "interact(f, lambd=IntSlider(min=1, max=300), \n",
    "            c=IntSlider(min=1, max=10000,step=1))"
   ]
  },
  {
   "cell_type": "markdown",
   "metadata": {},
   "source": [
    "## Conclusion:\n",
    "- Fixed Lambda\n",
    "   - for higher context count and value of lamda does not matter, we have high value of lambda1,we have high confidence on bigram count\n",
    "   - for lower context count, value of lamda1 or trust on bigram count is decreases\n",
    "\n",
    "Higher lambda penalizes ngrams with lower context count"
   ]
  }
 ],
 "metadata": {
  "kernelspec": {
   "display_name": "Python 3",
   "language": "python",
   "name": "python3"
  },
  "language_info": {
   "codemirror_mode": {
    "name": "ipython",
    "version": 3
   },
   "file_extension": ".py",
   "mimetype": "text/x-python",
   "name": "python",
   "nbconvert_exporter": "python",
   "pygments_lexer": "ipython3",
   "version": "3.8.3"
  }
 },
 "nbformat": 4,
 "nbformat_minor": 4
}
